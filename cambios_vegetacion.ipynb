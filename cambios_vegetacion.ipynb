{
 "cells": [
  {
   "source": [
    "# Trabajo final del Diplomado en AI & DL Universidad Nacional de Colombia\n",
    "## Clasificación de cambios de coberturas vegetales en imágenes de satélite Sentinel-2 en los humedales de Bogotá\n",
    "### Fecha: Mayo de 2021\n",
    "### Autores: Samuel Mesa, Wilgen Correa"
   ],
   "cell_type": "markdown",
   "metadata": {}
  },
  {
   "source": [
    "### Resumen\n",
    "\n",
    "Llevar a cabo la clasificación de coberturas vegetales a partir de imágenes de satélite SENTINEL-2 con aprendizaje profundo para la identificación de cambios de coberturas vegetales en los humedales de Bogotá."
   ],
   "cell_type": "markdown",
   "metadata": {}
  },
  {
   "cell_type": "code",
   "execution_count": 1,
   "metadata": {},
   "outputs": [],
   "source": [
    "import ee\n",
    "ee.Initialize()"
   ]
  },
  {
   "cell_type": "code",
   "execution_count": 2,
   "metadata": {},
   "outputs": [],
   "source": [
    "import geemap\n",
    "from geetools import algorithms, ui, cloud_mask, tools\n",
    "from pysatelital.utilidad import *\n",
    "import folium"
   ]
  },
  {
   "source": [
    "Definimos lass extensión geográfica de la zona de estudio"
   ],
   "cell_type": "markdown",
   "metadata": {}
  },
  {
   "cell_type": "code",
   "execution_count": 3,
   "metadata": {},
   "outputs": [],
   "source": [
    "region = ee.Geometry.Rectangle(-74.149852,4.578917,-74.136691,4.567453)\n",
    "tunjo = ee.FeatureCollection('users/femesagi/humedales/tunjo')\n",
    "tunjo_buffer = region.buffer(500)"
   ]
  },
  {
   "source": [
    "Búsqueda de las imágenes en una colección de imágenes de GEE con los parámetros de filtrado  de fecha y porcentaje de nubosidad. "
   ],
   "cell_type": "markdown",
   "metadata": {}
  },
  {
   "cell_type": "code",
   "execution_count": 4,
   "metadata": {},
   "outputs": [],
   "source": [
    "s2collection = ee.ImageCollection(\"COPERNICUS/S2_SR\")\\\n",
    "    .filterBounds(tunjo_buffer)\\\n",
    "    .filterDate(\"2017-03-28\", \"2021-05-30\")\\\n",
    "    .filterMetadata('CLOUD_COVERAGE_ASSESSMENT', 'less_than', 60)\\\n",
    "    .map(computeClouds)\\\n",
    "    .map(cloudsAtRegion(tunjo_buffer))"
   ]
  },
  {
   "source": [
    "Listar las imágenes de la colección de imágenes"
   ],
   "cell_type": "markdown",
   "metadata": {}
  },
  {
   "cell_type": "code",
   "execution_count": 5,
   "metadata": {},
   "outputs": [
    {
     "output_type": "stream",
     "name": "stdout",
     "text": [
      "47\n"
     ]
    },
    {
     "output_type": "execute_result",
     "data": {
      "text/plain": [
       "['COPERNICUS/S2_SR/20181215T152631_20181215T153104_T18NWL',\n",
       " 'COPERNICUS/S2_SR/20181220T152639_20181220T152634_T18NWL',\n",
       " 'COPERNICUS/S2_SR/20181225T152631_20181225T153106_T18NWL',\n",
       " 'COPERNICUS/S2_SR/20181230T152639_20181230T152636_T18NWL',\n",
       " 'COPERNICUS/S2_SR/20190104T152631_20190104T153031_T18NWL',\n",
       " 'COPERNICUS/S2_SR/20190124T152641_20190124T153110_T18NWL',\n",
       " 'COPERNICUS/S2_SR/20190414T152641_20190414T152811_T18NWL',\n",
       " 'COPERNICUS/S2_SR/20190807T152649_20190807T152646_T18NWL',\n",
       " 'COPERNICUS/S2_SR/20190812T152641_20190812T152642_T18NWL',\n",
       " 'COPERNICUS/S2_SR/20190911T152641_20190911T152637_T18NWL',\n",
       " 'COPERNICUS/S2_SR/20191205T152639_20191205T153107_T18NWL',\n",
       " 'COPERNICUS/S2_SR/20191210T152641_20191210T153058_T18NWL',\n",
       " 'COPERNICUS/S2_SR/20191220T152631_20191220T153056_T18NWL',\n",
       " 'COPERNICUS/S2_SR/20200104T152639_20200104T153054_T18NWL',\n",
       " 'COPERNICUS/S2_SR/20200109T152631_20200109T152633_T18NWL',\n",
       " 'COPERNICUS/S2_SR/20200114T152639_20200114T152633_T18NWL',\n",
       " 'COPERNICUS/S2_SR/20200129T152631_20200129T152632_T18NWL',\n",
       " 'COPERNICUS/S2_SR/20200203T152629_20200203T152632_T18NWL',\n",
       " 'COPERNICUS/S2_SR/20200213T152639_20200213T152634_T18NWL',\n",
       " 'COPERNICUS/S2_SR/20200218T152631_20200218T152633_T18NWL',\n",
       " 'COPERNICUS/S2_SR/20200304T152639_20200304T152636_T18NWL',\n",
       " 'COPERNICUS/S2_SR/20200329T152641_20200329T152635_T18NWL',\n",
       " 'COPERNICUS/S2_SR/20200403T152639_20200403T152831_T18NWL',\n",
       " 'COPERNICUS/S2_SR/20200428T152641_20200428T152642_T18NWL',\n",
       " 'COPERNICUS/S2_SR/20200717T152641_20200717T152644_T18NWL',\n",
       " 'COPERNICUS/S2_SR/20200811T152639_20200811T153047_T18NWL',\n",
       " 'COPERNICUS/S2_SR/20200821T152639_20200821T152642_T18NWL',\n",
       " 'COPERNICUS/S2_SR/20200831T152639_20200831T152758_T18NWL',\n",
       " 'COPERNICUS/S2_SR/20200905T152641_20200905T152643_T18NWL',\n",
       " 'COPERNICUS/S2_SR/20200910T152639_20200910T152641_T18NWL',\n",
       " 'COPERNICUS/S2_SR/20201015T152651_20201015T153029_T18NWL',\n",
       " 'COPERNICUS/S2_SR/20201025T152641_20201025T153133_T18NWL',\n",
       " 'COPERNICUS/S2_SR/20201119T152639_20201119T153128_T18NWL',\n",
       " 'COPERNICUS/S2_SR/20201124T152641_20201124T153118_T18NWL',\n",
       " 'COPERNICUS/S2_SR/20201129T152639_20201129T153127_T18NWL',\n",
       " 'COPERNICUS/S2_SR/20201204T152641_20201204T153115_T18NWL',\n",
       " 'COPERNICUS/S2_SR/20201214T152641_20201214T153114_T18NWL',\n",
       " 'COPERNICUS/S2_SR/20201219T152639_20201219T153124_T18NWL',\n",
       " 'COPERNICUS/S2_SR/20201224T152641_20201224T153116_T18NWL',\n",
       " 'COPERNICUS/S2_SR/20201229T152639_20201229T153126_T18NWL',\n",
       " 'COPERNICUS/S2_SR/20210113T152641_20210113T153118_T18NWL',\n",
       " 'COPERNICUS/S2_SR/20210118T152639_20210118T153102_T18NWL',\n",
       " 'COPERNICUS/S2_SR/20210128T152639_20210128T153015_T18NWL',\n",
       " 'COPERNICUS/S2_SR/20210207T152639_20210207T152638_T18NWL',\n",
       " 'COPERNICUS/S2_SR/20210217T152639_20210217T153027_T18NWL',\n",
       " 'COPERNICUS/S2_SR/20210309T152639_20210309T152638_T18NWL',\n",
       " 'COPERNICUS/S2_SR/20210319T152639_20210319T152638_T18NWL']"
      ]
     },
     "metadata": {},
     "execution_count": 5
    }
   ],
   "source": [
    "noclouds_s2collection = s2collection.filterMetadata('CLOUDS_AT_REGION', 'equals', 0)\n",
    "#noclouds_s2collection = s2cloudcollection.filterMetadata('CLOUDS_AT_AOI', 'less_than', 10)\n",
    "imagecol_masked = noclouds_s2collection.map(cloud_mask.sentinel2())\n",
    "print(imagecol_masked.size().getInfo())\n",
    "[img['id'] for img in  imagecol_masked.toList(imagecol_masked.size()).getInfo()]"
   ]
  },
  {
   "source": [
    "Seleccionar la última de las imágenes de GEE"
   ],
   "cell_type": "markdown",
   "metadata": {}
  },
  {
   "cell_type": "code",
   "execution_count": 8,
   "metadata": {
    "tags": []
   },
   "outputs": [
    {
     "output_type": "stream",
     "name": "stdout",
     "text": [
      "20210319T152639_20210319T152638_T18NWL\n"
     ]
    }
   ],
   "source": [
    "listOfImages = noclouds_s2collection.toList(noclouds_s2collection.size())\n",
    "ultima_imagen = listOfImages.size().getInfo() - 1\n",
    "test_image = ee.Image(listOfImages.get(ultima_imagen))\n",
    "print(test_image.id().getInfo())"
   ]
  },
  {
   "cell_type": "code",
   "execution_count": 9,
   "metadata": {},
   "outputs": [
    {
     "output_type": "display_data",
     "data": {
      "text/plain": "<folium.folium.Map at 0x7fbd0a18e370>",
      "text/html": "<div style=\"width:100%;\"><div style=\"position:relative;width:100%;height:0;padding-bottom:60%;\"><span style=\"color:#565656\">Make this Notebook Trusted to load map: File -> Trust Notebook</span><iframe src=\"about:blank\" style=\"position:absolute;width:100%;height:100%;left:0;top:0;border:none !important;\" data-html=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 onload=\"this.contentDocument.open();this.contentDocument.write(atob(this.getAttribute('data-html')));this.contentDocument.close();\" allowfullscreen webkitallowfullscreen mozallowfullscreen></iframe></div></div>"
     },
     "metadata": {}
    }
   ],
   "source": [
    "mi_mapa = folium.Map(\n",
    "    location=[4.575, -74.145],\n",
    "    zoom_start=16,\n",
    "    tiles='Stamen Terrain'\n",
    ")\n",
    "\n",
    "#mi_mapa.add_ee_layer(test_image, cloudVisParam, 'Whole Scene Cloudiness')\n",
    "#mi_mapa.add_ee_layer(masked, imageVisParam, 'masked')\n",
    "mi_mapa.add_ee_layer(test_image.clip(region), imageVisParam, 'Recorte de la zona de estudio')\n",
    "#mi_mapa.add_ee_layer(region, {'color': 'red', 'strokeWidth': 15}, \"Tunjo\")\n",
    "#mi_mapa.add_ee_layer(test_image, imageVisParam , 'Sential NDVI')\n",
    "display(mi_mapa)"
   ]
  },
  {
   "cell_type": "code",
   "execution_count": null,
   "metadata": {},
   "outputs": [],
   "source": []
  }
 ],
 "metadata": {
  "kernelspec": {
   "display_name": "Python 3.8.2 64-bit ('geonviroment': conda)",
   "language": "python",
   "name": "python38264bitgeonviromentcondad2cf60b550c14f9e9da98686ef0e0f03"
  },
  "language_info": {
   "codemirror_mode": {
    "name": "ipython",
    "version": 3
   },
   "file_extension": ".py",
   "mimetype": "text/x-python",
   "name": "python",
   "nbconvert_exporter": "python",
   "pygments_lexer": "ipython3",
   "version": "3.8.2-final"
  }
 },
 "nbformat": 4,
 "nbformat_minor": 4
}